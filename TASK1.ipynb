{
  "nbformat": 4,
  "nbformat_minor": 0,
  "metadata": {
    "colab": {
      "name": "TASK1.ipynb",
      "provenance": [],
      "authorship_tag": "ABX9TyMUH3F0zeTUmhLbClk1RpBX",
      "include_colab_link": true
    },
    "kernelspec": {
      "name": "python3",
      "display_name": "Python 3"
    }
  },
  "cells": [
    {
      "cell_type": "markdown",
      "metadata": {
        "id": "view-in-github",
        "colab_type": "text"
      },
      "source": [
        "<a href=\"https://colab.research.google.com/github/Amogha-Maiya/LINEAR_REGRESSION/blob/main/TASK1.ipynb\" target=\"_parent\"><img src=\"https://colab.research.google.com/assets/colab-badge.svg\" alt=\"Open In Colab\"/></a>"
      ]
    },
    {
      "cell_type": "code",
      "metadata": {
        "id": "Tp2R1kxPlHrV"
      },
      "source": [
        "import pandas as pd\n",
        "import numpy as np  \n",
        "import matplotlib.pyplot as plt"
      ],
      "execution_count": null,
      "outputs": []
    },
    {
      "cell_type": "markdown",
      "metadata": {
        "id": "QfBfzny0VCbk"
      },
      "source": [
        "SUPERVISED MACHINE LEARNING ALGORITHM"
      ]
    },
    {
      "cell_type": "markdown",
      "metadata": {
        "id": "aLTxgi7nPMu4"
      },
      "source": [
        "we load the data in csv file into the code!"
      ]
    },
    {
      "cell_type": "code",
      "metadata": {
        "id": "xgY_dHCwlOyz"
      },
      "source": [
        "url = \"http://bit.ly/w-data\"\n",
        "input_data = pd.read_csv(url)"
      ],
      "execution_count": null,
      "outputs": []
    },
    {
      "cell_type": "markdown",
      "metadata": {
        "id": "L-DvsqqaPlIr"
      },
      "source": [
        "Plot the graph for the existing values using python's matplotlib feature! "
      ]
    },
    {
      "cell_type": "code",
      "metadata": {
        "id": "1kNIO_a0leyO",
        "outputId": "70241b8a-05a9-4be3-938d-f8eb58106c99",
        "colab": {
          "base_uri": "https://localhost:8080/",
          "height": 295
        }
      },
      "source": [
        "input_data.plot(x='Hours', y='Scores', style='o')  \n",
        "plt.title('Hours vs Scores')  \n",
        "plt.xlabel('Hours he practiced')  \n",
        "plt.ylabel('Score he got in Test')  \n",
        "plt.show()"
      ],
      "execution_count": null,
      "outputs": [
        {
          "output_type": "display_data",
          "data": {
            "image/png": "[encoded data removed]",
            "text/plain": [
              "<Figure size 432x288 with 1 Axes>"
            ]
          },
          "metadata": {
            "tags": [],
            "needs_background": "light"
          }
        }
      ]
    },
    {
      "cell_type": "code",
      "metadata": {
        "id": "pUt52VQVlimw"
      },
      "source": [
        "X = input_data.iloc[:, :-1].values  \n",
        "y = input_data.iloc[:, 1].values "
      ],
      "execution_count": null,
      "outputs": []
    },
    {
      "cell_type": "markdown",
      "metadata": {
        "id": "7vJI_mdzQBKG"
      },
      "source": [
        "FIRST STEP IS TO COLLECT THE DATA WHICH IS ALREADY DONE IS PREVIOUS CELL\n",
        "SECOND STEP IS TO SPLIT THE DATA INTO TEST SET AND TRAIN SET \n",
        "this we do using scikit learn inbuilt feature "
      ]
    },
    {
      "cell_type": "code",
      "metadata": {
        "id": "H1D0dLPAloWS"
      },
      "source": [
        "from sklearn.model_selection import train_test_split  \n",
        "X_train, X_test, y_train, y_test = train_test_split(X, y, \n",
        "                            test_size=0.2, random_state=0) "
      ],
      "execution_count": null,
      "outputs": []
    },
    {
      "cell_type": "markdown",
      "metadata": {
        "id": "w6rrEx_RTXrP"
      },
      "source": [
        "THIRD STEP IS TO APPPLY THE LINEAR REGRESSION MODEL TO THE TRAINING SET!"
      ]
    },
    {
      "cell_type": "code",
      "metadata": {
        "id": "q-cDNhP5ls89",
        "outputId": "d2b05b34-a8f8-408d-fed1-64e4c5fdcd1f",
        "colab": {
          "base_uri": "https://localhost:8080/",
          "height": 34
        }
      },
      "source": [
        "from sklearn.linear_model import LinearRegression  \n",
        "regressor = LinearRegression()  \n",
        "regressor.fit(X_train, y_train) "
      ],
      "execution_count": null,
      "outputs": [
        {
          "output_type": "execute_result",
          "data": {
            "text/plain": [
              "LinearRegression(copy_X=True, fit_intercept=True, n_jobs=None, normalize=False)"
            ]
          },
          "metadata": {
            "tags": []
          },
          "execution_count": 127
        }
      ]
    },
    {
      "cell_type": "markdown",
      "metadata": {
        "id": "Y9bSAtHITQUt"
      },
      "source": [
        "FOURTH STEP IS TO FIND OUT THE line(Y) AFTER APPLYING THE VALUES TO THE MODEL!\n",
        "WE USE LINE=mX+C TO GET THE LINE WHERE M IS SLOPE AND C IS THE INTERCEPT!"
      ]
    },
    {
      "cell_type": "code",
      "metadata": {
        "id": "Su21SABulyGd"
      },
      "source": [
        "line = regressor.coef_*X+regressor.intercept_"
      ],
      "execution_count": null,
      "outputs": []
    },
    {
      "cell_type": "code",
      "metadata": {
        "id": "uQSn01Jql0Xp",
        "outputId": "3c243983-91a5-415a-ecc4-c48dae242886",
        "colab": {
          "base_uri": "https://localhost:8080/",
          "height": 265
        }
      },
      "source": [
        "plt.scatter(X, y)\n",
        "plt.plot(X, line);\n",
        "plt.show()"
      ],
      "execution_count": null,
      "outputs": [
        {
          "output_type": "display_data",
          "data": {
            "image/png": "[encoded data removed]",
            "text/plain": [
              "<Figure size 432x288 with 1 Axes>"
            ]
          },
          "metadata": {
            "tags": [],
            "needs_background": "light"
          }
        }
      ]
    },
    {
      "cell_type": "markdown",
      "metadata": {
        "id": "_0Xg3sEBRk2H"
      },
      "source": [
        "FIFTH STEP IS TO PREDICT THE VALUES BY GIVING ONE OF THE VARAIBLE!"
      ]
    },
    {
      "cell_type": "code",
      "metadata": {
        "id": "aTkDg1aeMSxz",
        "outputId": "a18e0c86-ee31-4411-8ffe-b44d6801c3fd",
        "colab": {
          "base_uri": "https://localhost:8080/",
          "height": 34
        }
      },
      "source": [
        "hr=[[9.25]]\n",
        "own_pred = regressor.predict(hr)\n",
        "print(own_pred)"
      ],
      "execution_count": null,
      "outputs": [
        {
          "output_type": "stream",
          "text": [
            "[93.69173249]\n"
          ],
          "name": "stdout"
        }
      ]
    },
    {
      "cell_type": "markdown",
      "metadata": {
        "id": "6H1aOv0HRx0R"
      },
      "source": [
        "SIXTH AND FINAL STEP IS TO TEST THE FINAL ANSWER BY EVALUATING THE ERRORS AND IMPROVING THE ACCURACY!"
      ]
    },
    {
      "cell_type": "code",
      "metadata": {
        "id": "Y7gYeRcyR8Qo",
        "outputId": "1923fbe2-427b-42d2-c75b-0135ddcfbb12",
        "colab": {
          "base_uri": "https://localhost:8080/",
          "height": 34
        }
      },
      "source": [
        "from sklearn import metrics  \n",
        "print('Mean Absolute Error:', \n",
        "      metrics.mean_absolute_error(y_test, y_pred)) "
      ],
      "execution_count": null,
      "outputs": [
        {
          "output_type": "stream",
          "text": [
            "Mean Absolute Error: 4.183859899002982\n"
          ],
          "name": "stdout"
        }
      ]
    },
    {
      "cell_type": "code",
      "metadata": {
        "id": "yeWf3z8nT7tK",
        "outputId": "4ba2bb7c-2d73-4d56-dea3-ad568fb54930",
        "colab": {
          "base_uri": "https://localhost:8080/",
          "height": 101
        }
      },
      "source": [
        "print(X_test) \n",
        "y_pred = regressor.predict(X_test)"
      ],
      "execution_count": null,
      "outputs": [
        {
          "output_type": "stream",
          "text": [
            "[[1.5]\n",
            " [3.2]\n",
            " [7.4]\n",
            " [2.5]\n",
            " [5.9]]\n"
          ],
          "name": "stdout"
        }
      ]
    },
    {
      "cell_type": "code",
      "metadata": {
        "id": "y3I42flwUAQR",
        "outputId": "a421e2f2-af3c-4021-f7cc-60c2caa33a91",
        "colab": {
          "base_uri": "https://localhost:8080/",
          "height": 118
        }
      },
      "source": [
        "df = pd.DataFrame({'Actual': y_test, 'Predicted': y_pred})\n",
        "print(df)"
      ],
      "execution_count": null,
      "outputs": [
        {
          "output_type": "stream",
          "text": [
            "   Actual  Predicted\n",
            "0      20  16.884145\n",
            "1      27  33.732261\n",
            "2      69  75.357018\n",
            "3      30  26.794801\n",
            "4      62  60.491033\n"
          ],
          "name": "stdout"
        }
      ]
    },
    {
      "cell_type": "markdown",
      "metadata": {
        "id": "3qJa-muYPITM"
      },
      "source": [
        ""
      ]
    }
  ]
}